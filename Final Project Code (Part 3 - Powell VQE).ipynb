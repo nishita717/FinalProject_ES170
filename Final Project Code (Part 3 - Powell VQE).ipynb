{
 "cells": [
  {
   "cell_type": "code",
   "execution_count": 1,
   "metadata": {},
   "outputs": [],
   "source": [
    "import numpy as np\n",
    "import scipy as sp\n",
    "import matplotlib.pyplot as plt"
   ]
  },
  {
   "cell_type": "code",
   "execution_count": 2,
   "metadata": {},
   "outputs": [],
   "source": [
    "from pyquil.quil import Program\n",
    "import pyquil.api as api\n",
    "from pyquil.gates import *\n",
    "qvm = api.QVMConnection()"
   ]
  },
  {
   "cell_type": "code",
   "execution_count": 3,
   "metadata": {},
   "outputs": [],
   "source": [
    "from grove.pyvqe.vqe import VQE\n",
    "from scipy.optimize import minimize"
   ]
  },
  {
   "cell_type": "code",
   "execution_count": 4,
   "metadata": {},
   "outputs": [],
   "source": [
    "from pyquil.paulis import sX, sY, sZ, ID"
   ]
  },
  {
   "cell_type": "markdown",
   "metadata": {},
   "source": [
    "In this code we are running all the same VQE's for our LIH Hamiltonian, using the same gate combinations as for the previous part, but we are using the Powell minimizer."
   ]
  },
  {
   "cell_type": "code",
   "execution_count": 5,
   "metadata": {},
   "outputs": [
    {
     "data": {
      "text/plain": [
       "<pyquil.paulis.PauliSum at 0x7fcba530b6d8>"
      ]
     },
     "execution_count": 5,
     "metadata": {},
     "output_type": "execute_result"
    }
   ],
   "source": [
    "hamiltonian = -0.096022*sZ(0) + -0.206128*sZ(0)*sZ(1) + 0.364746*sZ(1) + 0.096022*sZ(2) + -0.206128*sZ(2)*sZ(3) + -0.364746*sZ(3) + -0.145438*sZ(0)*sZ(2) + 0.056040*sZ(0)*sZ(2)*sZ(3) + 0.110811*sZ(0)*sZ(3) + -0.056040*sZ(0)*sZ(1)*sZ(2) + 0.080334*sZ(0)*sZ(1)*sZ(2)*sZ(3) + 0.063673*sZ(0)*sZ(1)*sZ(3) + 0.110811*sZ(1)*sZ(2) + -0.06373*sZ(1)*sZ(2)*sZ(3) + -0.095216*sZ(1)*sZ(3)\n",
    "+ -0.012585*sX(0)*sZ(1) + 0.012585*sX(0) + 0.012585*sX(2)*sZ(3) + 0.012585*sX(2) + -0.002667*sX(0)*sZ(1)*sX(2)*sZ(3) + -0.002667*sX(0)*sZ(1)*sX(2) + 0.002667*sX(0)*sX(2)*sZ(3) + 0.002667*sX(0)*sX(2) + 0.007265*sX(0)*sZ(1)*sZ(3) + -0.007265*sX(0)*sZ(3) + 0.007265*sZ(1)*sX(2)*sZ(3) + 0.007265*sZ(1)*sX(2)\n",
    "+ -0.029640*sX(0)*sX(1) + 0.002792*sX(1) + -0.029640*sX(2)*sX(3) + 0.002792*sX(3) + -0.008195*sX(0)*sX(2)*sX(3) + -0.001271*sX(0)*sX(3) + -0.008195*sX(0)*sX(1)*sX(2) + 0.028926*sX(0)*sX(1)*sX(2)*sX(3) + 0.007499*sX(0)*sX(1)*sX(3) + -0.001271*sX(1)*sX(2) + 0.007499*sX(1)*sX(2)*sX(3) + 0.009327*sX(1)*sX(3)\n",
    "+ 0.029640*sY(0)*sY(1) + 0.029640*sY(2)*sY(3) + 0.028926*sY(0)*sY(1)*sY(2)*sY(3)\n",
    "+ 0.002792*sZ(0)*sX(1) + -0.002792*sZ(2)*sX(3) + -0.016781*sZ(0)*sZ(2)*sX(3) + 0.016781*sZ(0)*sX(3) + -0.016781*sZ(0)*sX(1)*sZ(2) + -0.016781*sX(1)*sZ(2) + -0.009327*sZ(0)*sX(1)*sZ(2)*sX(3) + 0.009327*sZ(0)*sX(1)*sX(3) + -0.009327*sX(1)*sZ(2)*sX(3)\n",
    "+ -0.011962*sZ(0)*sX(2)*sZ(3) + -0.011962*sZ(0)*sX(2) + 0.000247*sZ(0)*sZ(1)*sX(2)*sZ(3) + 0.000247*sZ(0)*sZ(1)*sX(2)\n",
    "+ 0.039155*sZ(0)*sX(2)*sX(3) + -0.002895*sZ(0)*sZ(1)*sX(2)*sX(3) + -0.009769*sZ(0)*sZ(1)*sX(3) + -0.024280*sZ(1)*sX(2)*sX(3) + -0.008025*sZ(1)*sX(3)\n",
    "+ -0.039155*sZ(0)*sY(2)*sY(3) + 0.002895*sZ(0)*sZ(1)*sY(2)*sY(3) + 0.024280*sZ(1)*sY(2)*sY(3)\n",
    "+ -0.011962*sX(0)*sZ(1)*sZ(2) + 0.011962*sX(0)*sZ(2) + -0.000247*sX(0)*sZ(1)*sZ(2)*sZ(3) + 0.000247*sX(0)*sZ(2)*sZ(3)\n",
    "+ 0.008195*sX(0)*sZ(1)*sX(2)*sX(3) + 0.0001271*sX(0)*sZ(1)*sX(3) + -0.007499*sX(0)*sX(1)*sZ(2)*sX(3)\n",
    "+ -0.008195*sX(0)*sZ(1)*sY(2)*sY(3) + 0.008195*sX(0)*sY(2)*sY(3) + 0.007499*sY(0)*sY(1)*sZ(2)*sX(3)\n",
    "+  -0.001271*sX(0)*sZ(1)*sZ(2)*sX(3) + 0.001271*sX(0)*sZ(2)*sX(3) + 0.008025*sZ(1)*sZ(2)*sX(3) + 0.009769*sZ(0)*sZ(1)*sZ(2)*sX(3)\n",
    "+ -0.039155*sX(0)*sX(1)*sZ(2) + -0.002895*sX(0)*sX(1)*sZ(2)*sZ(3) + 0.024280*sX(0)*sX(1)*sZ(3) + -0.009769*sX(1)*sZ(2)*sZ(3) + 0.008025*sX(1)*sZ(3) + -0.001271*sZ(0)*sX(1)*sX(2)*sZ(3) + -0.001271*sZ(0)*sX(1)*sX(2) + 0.008025*sZ(0)*sX(1)*sZ(3)\n",
    "+ 0.039155*sY(0)*sY(1)*sZ(2) + 0.002895*sY(0)*sY(1)*sZ(2)*sZ(3) + -0.024280*sY(0)*sY(1)*sZ(3) + 0.007499*sZ(0)*sX(1)*sX(2)*sX(3)\n",
    "+ -0.008195*sX(0)*sX(1)*sX(2)*sZ(3) + -0.001271*sX(1)*sX(2)*sZ(3) + -0.007499*sZ(0)*sX(1)*sY(2)*sY(3)\n",
    "+ 0.008195*sY(0)*sY(1)*sX(2)*sZ(3) + 0.008195*sY(0)*sY(1)*sX(2) + -0.009769*sZ(0)*sX(1)*sZ(2)*sZ(3)\n",
    "+ -0.028926*sX(0)*sX(1)*sY(2)*sY(3) +  -0.007499*sX(1)*sY(2)*sY(3)  + -0.028926*sY(0)*sY(1)*sX(2)*sX(3) + -0.007499*sY(0)*sY(1)*sX(3)"
   ]
  },
  {
   "cell_type": "code",
   "execution_count": 6,
   "metadata": {},
   "outputs": [
    {
     "name": "stdout",
     "output_type": "stream",
     "text": [
      "WARNING: Fast method for expectation will be used. Noise\n",
      "                     models will be ineffective\n",
      "{'x': array([  3.14159263e+00,   1.70107798e-08,   4.62731123e+00,\n",
      "         3.14159264e+00,   1.32820280e-08,   2.96108936e+00,\n",
      "         6.19718004e-08,   3.59081157e-08,   2.43573981e+00,\n",
      "         2.95729374e-08,   1.32035854e-09,   5.06501714e+00]), 'fun': array(-0.8350150000000002)}\n"
     ]
    }
   ],
   "source": [
    "def smallish_ansatz_HXYZ(params):\n",
    "    return Program(RX(params[0], 0), RY(params[1], 0), RZ(params[2],0),\n",
    "                   RX(params[3], 1), RY(params[4], 1), RZ(params[5],1),\n",
    "                   RX(params[6], 2), RY(params[7], 2), RZ(params[8],2),\n",
    "                   RX(params[9], 3), RY(params[10], 3), RZ(params[11],3)\n",
    ")\n",
    "\n",
    "vqe_inst = VQE(minimizer=minimize,\n",
    "               minimizer_kwargs={'method': 'Powell'})\n",
    "initial_angles_HXYZ = [1.0, 1.0, 1.0, 1.0, 1.0, 1.0, 1.0, 1.0, 1.0, 1.0, 1.0, 1.0]\n",
    "result = vqe_inst.vqe_run(smallish_ansatz_HXYZ, hamiltonian, initial_angles_HXYZ, None, qvm=qvm)\n",
    "print(result)"
   ]
  },
  {
   "cell_type": "markdown",
   "metadata": {},
   "source": [
    "Groundstate energy is -0.835015 YAY!!!"
   ]
  },
  {
   "cell_type": "markdown",
   "metadata": {},
   "source": [
    "What happens if we try different number of variational parameters?\n",
    "What if only rotation about X axis, only RX?"
   ]
  },
  {
   "cell_type": "code",
   "execution_count": 7,
   "metadata": {},
   "outputs": [
    {
     "name": "stdout",
     "output_type": "stream",
     "text": [
      "WARNING: Fast method for expectation will be used. Noise\n",
      "                     models will be ineffective\n",
      "{'x': array([  3.14159261e+00,   3.14159265e+00,  -8.65976530e-10,\n",
      "         2.36327212e-08]), 'fun': array(-0.8350149999999998)}\n"
     ]
    }
   ],
   "source": [
    "def smallish_ansatz_HXYZ(params):\n",
    "    return Program(RX(params[0], 0),\n",
    "                   RX(params[1], 1), \n",
    "                   RX(params[2], 2), \n",
    "                   RX(params[3], 3),\n",
    ")\n",
    "\n",
    "vqe_inst = VQE(minimizer=minimize,\n",
    "               minimizer_kwargs={'method': 'Powell'})\n",
    "initial_angles_HXYZ = [1.0, 1.0, 1.0, 1.0]\n",
    "result = vqe_inst.vqe_run(smallish_ansatz_HXYZ, hamiltonian, initial_angles_HXYZ, None, qvm=qvm)\n",
    "print(result)"
   ]
  },
  {
   "cell_type": "markdown",
   "metadata": {},
   "source": [
    "A little bit farther from -0.835015. If we try this for RZ, we get:"
   ]
  },
  {
   "cell_type": "code",
   "execution_count": 8,
   "metadata": {},
   "outputs": [
    {
     "name": "stdout",
     "output_type": "stream",
     "text": [
      "WARNING: Fast method for expectation will be used. Noise\n",
      "                     models will be ineffective\n",
      "{'x': array([ 3.58792896,  3.58792896,  3.5623059 ,  2.16311896]), 'fun': array(-0.3510110000000001)}\n"
     ]
    }
   ],
   "source": [
    "def smallish_ansatz_HXYZ(params):\n",
    "    return Program(RZ(params[0], 0),\n",
    "                   RZ(params[1], 1), \n",
    "                   RZ(params[2], 2), \n",
    "                   RZ(params[3], 3),\n",
    ")\n",
    "\n",
    "vqe_inst = VQE(minimizer=minimize,\n",
    "               minimizer_kwargs={'method': 'Powell'})\n",
    "initial_angles_HXYZ = [1.0, 1.0, 1.0, 1.0]\n",
    "result = vqe_inst.vqe_run(smallish_ansatz_HXYZ, hamiltonian, initial_angles_HXYZ, None, qvm=qvm)\n",
    "print(result)"
   ]
  },
  {
   "cell_type": "markdown",
   "metadata": {},
   "source": [
    "Groundstate very closely represents some rotation about the x axis, involves very little rotation about the z axis. Let's try this for the T gate."
   ]
  },
  {
   "cell_type": "code",
   "execution_count": 9,
   "metadata": {},
   "outputs": [
    {
     "name": "stdout",
     "output_type": "stream",
     "text": [
      "WARNING: Fast method for expectation will be used. Noise\n",
      "                     models will be ineffective\n",
      "{'x': array([ 3.58792896,  3.58792896,  3.58792896,  3.58792896]), 'fun': array(-0.3510110000000001)}\n"
     ]
    }
   ],
   "source": [
    "def smallish_ansatz_HXYZ(params):\n",
    "    return Program(T(0),\n",
    "                   T(1), \n",
    "                   T(2), \n",
    "                   T(3),\n",
    ")\n",
    "\n",
    "vqe_inst = VQE(minimizer=minimize,\n",
    "               minimizer_kwargs={'method': 'Powell'})\n",
    "initial_angles_HXYZ = [1.0, 1.0, 1.0, 1.0]\n",
    "result = vqe_inst.vqe_run(smallish_ansatz_HXYZ, hamiltonian, initial_angles_HXYZ, None, qvm=qvm)\n",
    "print(result)"
   ]
  },
  {
   "cell_type": "markdown",
   "metadata": {},
   "source": [
    "We see that we get the same (not great) result for T gates, since T gates are also just rotations about the Z axis, like RZ is."
   ]
  },
  {
   "cell_type": "code",
   "execution_count": 10,
   "metadata": {},
   "outputs": [
    {
     "name": "stdout",
     "output_type": "stream",
     "text": [
      "WARNING: Fast method for expectation will be used. Noise\n",
      "                     models will be ineffective\n",
      "{'x': array([  3.14159261e+00,   3.14159265e+00,   3.75200256e-08,\n",
      "         5.83406491e+00]), 'fun': array(-0.8350150000000003)}\n"
     ]
    }
   ],
   "source": [
    "def smallish_ansatz_HXYZ(params):\n",
    "    return Program(RX(params[0], 0),\n",
    "                   RX(params[1], 1), \n",
    "                   RX(params[2], 2), \n",
    "                   RZ(params[3], 3),\n",
    ")\n",
    "\n",
    "vqe_inst = VQE(minimizer=minimize,\n",
    "               minimizer_kwargs={'method': 'Powell'})\n",
    "initial_angles_HXYZ = [1.0, 1.0, 1.0, 1.0]\n",
    "result = vqe_inst.vqe_run(smallish_ansatz_HXYZ, hamiltonian, initial_angles_HXYZ, None, qvm=qvm)\n",
    "print(result)"
   ]
  },
  {
   "cell_type": "code",
   "execution_count": 11,
   "metadata": {},
   "outputs": [
    {
     "name": "stdout",
     "output_type": "stream",
     "text": [
      "WARNING: Fast method for expectation will be used. Noise\n",
      "                     models will be ineffective\n",
      "{'x': array([  3.14159262e+00,   3.14159265e+00,   4.03739798e+00,\n",
      "         1.69818877e-08]), 'fun': array(-0.8350150000000001)}\n"
     ]
    }
   ],
   "source": [
    "def smallish_ansatz_HXYZ(params):\n",
    "    return Program(RX(params[0], 0),\n",
    "                   RX(params[1], 1), \n",
    "                   RZ(params[2], 2), \n",
    "                   RX(params[3], 3),\n",
    ")\n",
    "\n",
    "vqe_inst = VQE(minimizer=minimize,\n",
    "               minimizer_kwargs={'method': 'Powell'})\n",
    "initial_angles_HXYZ = [1.0, 1.0, 1.0, 1.0]\n",
    "result = vqe_inst.vqe_run(smallish_ansatz_HXYZ, hamiltonian, initial_angles_HXYZ, None, qvm=qvm)\n",
    "print(result)"
   ]
  },
  {
   "cell_type": "code",
   "execution_count": 12,
   "metadata": {},
   "outputs": [
    {
     "name": "stdout",
     "output_type": "stream",
     "text": [
      "WARNING: Fast method for expectation will be used. Noise\n",
      "                     models will be ineffective\n",
      "{'x': array([ -2.18550600e-11,   8.46351678e-02,  -2.18860996e-11,\n",
      "        -2.69934848e-11]), 'fun': array(-0.3510110000000001)}\n"
     ]
    }
   ],
   "source": [
    "def smallish_ansatz_HXYZ(params):\n",
    "    return Program(RX(params[0], 0),\n",
    "                   RZ(params[1], 1), \n",
    "                   RX(params[2], 2), \n",
    "                   RX(params[3], 3),\n",
    ")\n",
    "\n",
    "vqe_inst = VQE(minimizer=minimize,\n",
    "               minimizer_kwargs={'method': 'Powell'})\n",
    "initial_angles_HXYZ = [1.0, 1.0, 1.0, 1.0]\n",
    "result = vqe_inst.vqe_run(smallish_ansatz_HXYZ, hamiltonian, initial_angles_HXYZ, None, qvm=qvm)\n",
    "print(result)"
   ]
  },
  {
   "cell_type": "code",
   "execution_count": 13,
   "metadata": {},
   "outputs": [
    {
     "name": "stdout",
     "output_type": "stream",
     "text": [
      "WARNING: Fast method for expectation will be used. Noise\n",
      "                     models will be ineffective\n",
      "{'x': array([  1.30994630e+00,   3.14159265e+00,  -2.91985734e-11,\n",
      "        -3.07824296e-11]), 'fun': array(-0.7479110000000002)}\n"
     ]
    }
   ],
   "source": [
    "def smallish_ansatz_HXYZ(params):\n",
    "    return Program(RZ(params[0], 0),\n",
    "                   RX(params[1], 1), \n",
    "                   RX(params[2], 2), \n",
    "                   RX(params[3], 3),\n",
    ")\n",
    "\n",
    "vqe_inst = VQE(minimizer=minimize,\n",
    "               minimizer_kwargs={'method': 'Powell'})\n",
    "initial_angles_HXYZ = [1.0, 1.0, 1.0, 1.0]\n",
    "result = vqe_inst.vqe_run(smallish_ansatz_HXYZ, hamiltonian, initial_angles_HXYZ, None, qvm=qvm)\n",
    "print(result)"
   ]
  },
  {
   "cell_type": "markdown",
   "metadata": {},
   "source": [
    "We see that the X rotation for the second and first qubit (mostly the second qubit) matter much much more than the X rotation about the 3rd and 4th qubit. In fact, the scenario with an X rotation for the first three qubits, and a Z rotation for the last qubit yields the best possible result."
   ]
  },
  {
   "cell_type": "code",
   "execution_count": 14,
   "metadata": {},
   "outputs": [
    {
     "name": "stdout",
     "output_type": "stream",
     "text": [
      "WARNING: Fast method for expectation will be used. Noise\n",
      "                     models will be ineffective\n",
      "{'x': array([  3.14159268e+00,   3.14159265e+00,  -7.03360886e-10]), 'fun': array(-0.8350150000000001)}\n"
     ]
    }
   ],
   "source": [
    "def smallish_ansatz_HXYZ(params):\n",
    "    return Program(RX(params[0], 0),\n",
    "                   RX(params[1], 1), \n",
    "                   RX(params[2], 2),\n",
    ")\n",
    "\n",
    "vqe_inst = VQE(minimizer=minimize,\n",
    "               minimizer_kwargs={'method': 'Powell'})\n",
    "initial_angles_HXYZ = [1.0, 1.0, 1.0]\n",
    "result = vqe_inst.vqe_run(smallish_ansatz_HXYZ, hamiltonian, initial_angles_HXYZ, None, qvm=qvm)\n",
    "print(result)"
   ]
  },
  {
   "cell_type": "code",
   "execution_count": 15,
   "metadata": {},
   "outputs": [
    {
     "name": "stdout",
     "output_type": "stream",
     "text": [
      "WARNING: Fast method for expectation will be used. Noise\n",
      "                     models will be ineffective\n",
      "{'x': array([ 3.14159268,  3.14159265]), 'fun': array(-0.8350150000000001)}\n"
     ]
    }
   ],
   "source": [
    "def smallish_ansatz_HXYZ(params):\n",
    "    return Program(RX(params[0], 0),\n",
    "                   RX(params[1], 1),\n",
    ")\n",
    "\n",
    "vqe_inst = VQE(minimizer=minimize,\n",
    "               minimizer_kwargs={'method': 'Powell'})\n",
    "initial_angles_HXYZ = [1.0, 1.0]\n",
    "result = vqe_inst.vqe_run(smallish_ansatz_HXYZ, hamiltonian, initial_angles_HXYZ, None, qvm=qvm)\n",
    "print(result)"
   ]
  },
  {
   "cell_type": "markdown",
   "metadata": {},
   "source": []
  },
  {
   "cell_type": "code",
   "execution_count": null,
   "metadata": {},
   "outputs": [],
   "source": []
  }
 ],
 "metadata": {
  "kernelspec": {
   "display_name": "Python 3",
   "language": "python",
   "name": "python3"
  },
  "language_info": {
   "codemirror_mode": {
    "name": "ipython",
    "version": 3
   },
   "file_extension": ".py",
   "mimetype": "text/x-python",
   "name": "python",
   "nbconvert_exporter": "python",
   "pygments_lexer": "ipython3",
   "version": "3.6.4"
  }
 },
 "nbformat": 4,
 "nbformat_minor": 2
}

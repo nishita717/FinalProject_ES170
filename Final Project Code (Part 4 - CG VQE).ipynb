{
 "cells": [
  {
   "cell_type": "code",
   "execution_count": 1,
   "metadata": {},
   "outputs": [],
   "source": [
    "import numpy as np\n",
    "import scipy as sp\n",
    "import matplotlib.pyplot as plt"
   ]
  },
  {
   "cell_type": "code",
   "execution_count": 2,
   "metadata": {},
   "outputs": [],
   "source": [
    "from pyquil.quil import Program\n",
    "import pyquil.api as api\n",
    "from pyquil.gates import *\n",
    "qvm = api.QVMConnection()"
   ]
  },
  {
   "cell_type": "code",
   "execution_count": 3,
   "metadata": {},
   "outputs": [],
   "source": [
    "from grove.pyvqe.vqe import VQE\n",
    "from scipy.optimize import minimize"
   ]
  },
  {
   "cell_type": "code",
   "execution_count": 4,
   "metadata": {},
   "outputs": [],
   "source": [
    "from pyquil.paulis import sX, sY, sZ, ID"
   ]
  },
  {
   "cell_type": "markdown",
   "metadata": {},
   "source": [
    "We are running the same VQE gate combinations for LIH as before, this time using the CG minimizer."
   ]
  },
  {
   "cell_type": "code",
   "execution_count": 5,
   "metadata": {},
   "outputs": [
    {
     "data": {
      "text/plain": [
       "<pyquil.paulis.PauliSum at 0x7f32513f0588>"
      ]
     },
     "execution_count": 5,
     "metadata": {},
     "output_type": "execute_result"
    }
   ],
   "source": [
    "hamiltonian = -0.096022*sZ(0) + -0.206128*sZ(0)*sZ(1) + 0.364746*sZ(1) + 0.096022*sZ(2) + -0.206128*sZ(2)*sZ(3) + -0.364746*sZ(3) + -0.145438*sZ(0)*sZ(2) + 0.056040*sZ(0)*sZ(2)*sZ(3) + 0.110811*sZ(0)*sZ(3) + -0.056040*sZ(0)*sZ(1)*sZ(2) + 0.080334*sZ(0)*sZ(1)*sZ(2)*sZ(3) + 0.063673*sZ(0)*sZ(1)*sZ(3) + 0.110811*sZ(1)*sZ(2) + -0.06373*sZ(1)*sZ(2)*sZ(3) + -0.095216*sZ(1)*sZ(3)\n",
    "+ -0.012585*sX(0)*sZ(1) + 0.012585*sX(0) + 0.012585*sX(2)*sZ(3) + 0.012585*sX(2) + -0.002667*sX(0)*sZ(1)*sX(2)*sZ(3) + -0.002667*sX(0)*sZ(1)*sX(2) + 0.002667*sX(0)*sX(2)*sZ(3) + 0.002667*sX(0)*sX(2) + 0.007265*sX(0)*sZ(1)*sZ(3) + -0.007265*sX(0)*sZ(3) + 0.007265*sZ(1)*sX(2)*sZ(3) + 0.007265*sZ(1)*sX(2)\n",
    "+ -0.029640*sX(0)*sX(1) + 0.002792*sX(1) + -0.029640*sX(2)*sX(3) + 0.002792*sX(3) + -0.008195*sX(0)*sX(2)*sX(3) + -0.001271*sX(0)*sX(3) + -0.008195*sX(0)*sX(1)*sX(2) + 0.028926*sX(0)*sX(1)*sX(2)*sX(3) + 0.007499*sX(0)*sX(1)*sX(3) + -0.001271*sX(1)*sX(2) + 0.007499*sX(1)*sX(2)*sX(3) + 0.009327*sX(1)*sX(3)\n",
    "+ 0.029640*sY(0)*sY(1) + 0.029640*sY(2)*sY(3) + 0.028926*sY(0)*sY(1)*sY(2)*sY(3)\n",
    "+ 0.002792*sZ(0)*sX(1) + -0.002792*sZ(2)*sX(3) + -0.016781*sZ(0)*sZ(2)*sX(3) + 0.016781*sZ(0)*sX(3) + -0.016781*sZ(0)*sX(1)*sZ(2) + -0.016781*sX(1)*sZ(2) + -0.009327*sZ(0)*sX(1)*sZ(2)*sX(3) + 0.009327*sZ(0)*sX(1)*sX(3) + -0.009327*sX(1)*sZ(2)*sX(3)\n",
    "+ -0.011962*sZ(0)*sX(2)*sZ(3) + -0.011962*sZ(0)*sX(2) + 0.000247*sZ(0)*sZ(1)*sX(2)*sZ(3) + 0.000247*sZ(0)*sZ(1)*sX(2)\n",
    "+ 0.039155*sZ(0)*sX(2)*sX(3) + -0.002895*sZ(0)*sZ(1)*sX(2)*sX(3) + -0.009769*sZ(0)*sZ(1)*sX(3) + -0.024280*sZ(1)*sX(2)*sX(3) + -0.008025*sZ(1)*sX(3)\n",
    "+ -0.039155*sZ(0)*sY(2)*sY(3) + 0.002895*sZ(0)*sZ(1)*sY(2)*sY(3) + 0.024280*sZ(1)*sY(2)*sY(3)\n",
    "+ -0.011962*sX(0)*sZ(1)*sZ(2) + 0.011962*sX(0)*sZ(2) + -0.000247*sX(0)*sZ(1)*sZ(2)*sZ(3) + 0.000247*sX(0)*sZ(2)*sZ(3)\n",
    "+ 0.008195*sX(0)*sZ(1)*sX(2)*sX(3) + 0.0001271*sX(0)*sZ(1)*sX(3) + -0.007499*sX(0)*sX(1)*sZ(2)*sX(3)\n",
    "+ -0.008195*sX(0)*sZ(1)*sY(2)*sY(3) + 0.008195*sX(0)*sY(2)*sY(3) + 0.007499*sY(0)*sY(1)*sZ(2)*sX(3)\n",
    "+  -0.001271*sX(0)*sZ(1)*sZ(2)*sX(3) + 0.001271*sX(0)*sZ(2)*sX(3) + 0.008025*sZ(1)*sZ(2)*sX(3) + 0.009769*sZ(0)*sZ(1)*sZ(2)*sX(3)\n",
    "+ -0.039155*sX(0)*sX(1)*sZ(2) + -0.002895*sX(0)*sX(1)*sZ(2)*sZ(3) + 0.024280*sX(0)*sX(1)*sZ(3) + -0.009769*sX(1)*sZ(2)*sZ(3) + 0.008025*sX(1)*sZ(3) + -0.001271*sZ(0)*sX(1)*sX(2)*sZ(3) + -0.001271*sZ(0)*sX(1)*sX(2) + 0.008025*sZ(0)*sX(1)*sZ(3)\n",
    "+ 0.039155*sY(0)*sY(1)*sZ(2) + 0.002895*sY(0)*sY(1)*sZ(2)*sZ(3) + -0.024280*sY(0)*sY(1)*sZ(3) + 0.007499*sZ(0)*sX(1)*sX(2)*sX(3)\n",
    "+ -0.008195*sX(0)*sX(1)*sX(2)*sZ(3) + -0.001271*sX(1)*sX(2)*sZ(3) + -0.007499*sZ(0)*sX(1)*sY(2)*sY(3)\n",
    "+ 0.008195*sY(0)*sY(1)*sX(2)*sZ(3) + 0.008195*sY(0)*sY(1)*sX(2) + -0.009769*sZ(0)*sX(1)*sZ(2)*sZ(3)\n",
    "+ -0.028926*sX(0)*sX(1)*sY(2)*sY(3) +  -0.007499*sX(1)*sY(2)*sY(3)  + -0.028926*sY(0)*sY(1)*sX(2)*sX(3) + -0.007499*sY(0)*sY(1)*sX(3)"
   ]
  },
  {
   "cell_type": "code",
   "execution_count": 6,
   "metadata": {},
   "outputs": [
    {
     "name": "stdout",
     "output_type": "stream",
     "text": [
      "WARNING: Fast method for expectation will be used. Noise\n",
      "                     models will be ineffective\n",
      "{'x': array([ -3.23741747e-05,  -3.23822102e-05,   9.99999549e-01,\n",
      "         1.57075317e+00,   1.57083943e+00,   9.99999746e-01,\n",
      "        -8.47096160e-08,  -1.08065279e-07,   9.99999747e-01,\n",
      "        -2.97716039e-06,  -2.96565961e-06,   9.99999902e-01]), 'fun': -0.5494610002874158}\n"
     ]
    }
   ],
   "source": [
    "def smallish_ansatz_HXYZ(params):\n",
    "    return Program(RX(params[0], 0), RY(params[1], 0), RZ(params[2],0),\n",
    "                   RX(params[3], 1), RY(params[4], 1), RZ(params[5],1),\n",
    "                   RX(params[6], 2), RY(params[7], 2), RZ(params[8],2),\n",
    "                   RX(params[9], 3), RY(params[10], 3), RZ(params[11],3)\n",
    ")\n",
    "\n",
    "vqe_inst = VQE(minimizer=minimize,\n",
    "               minimizer_kwargs={'method': 'CG'})\n",
    "initial_angles_HXYZ = [1.0, 1.0, 1.0, 1.0, 1.0, 1.0, 1.0, 1.0, 1.0, 1.0, 1.0, 1.0]\n",
    "result = vqe_inst.vqe_run(smallish_ansatz_HXYZ, hamiltonian, initial_angles_HXYZ, None, qvm=qvm)\n",
    "print(result)"
   ]
  },
  {
   "cell_type": "markdown",
   "metadata": {},
   "source": [
    "What happens if we try different number of variational parameters?\n",
    "What if only rotation about X axis, only RX?"
   ]
  },
  {
   "cell_type": "code",
   "execution_count": 7,
   "metadata": {},
   "outputs": [
    {
     "name": "stdout",
     "output_type": "stream",
     "text": [
      "WARNING: Fast method for expectation will be used. Noise\n",
      "                     models will be ineffective\n",
      "{'x': array([  3.14156030e+00,   3.14159262e+00,   6.37719107e-06,\n",
      "        -1.30543459e-07]), 'fun': -0.8350149999763178}\n"
     ]
    }
   ],
   "source": [
    "def smallish_ansatz_HXYZ(params):\n",
    "    return Program(RX(params[0], 0),\n",
    "                   RX(params[1], 1), \n",
    "                   RX(params[2], 2), \n",
    "                   RX(params[3], 3),\n",
    ")\n",
    "\n",
    "vqe_inst = VQE(minimizer=minimize,\n",
    "               minimizer_kwargs={'method': 'CG'})\n",
    "initial_angles_HXYZ = [1.0, 1.0, 1.0, 1.0]\n",
    "result = vqe_inst.vqe_run(smallish_ansatz_HXYZ, hamiltonian, initial_angles_HXYZ, None, qvm=qvm)\n",
    "print(result)"
   ]
  },
  {
   "cell_type": "markdown",
   "metadata": {},
   "source": [
    "A little bit farther from -0.835015. If we try this for RZ, we get:"
   ]
  },
  {
   "cell_type": "code",
   "execution_count": 8,
   "metadata": {},
   "outputs": [
    {
     "name": "stdout",
     "output_type": "stream",
     "text": [
      "WARNING: Fast method for expectation will be used. Noise\n",
      "                     models will be ineffective\n",
      "{'x': array([ 1.,  1.,  1.,  1.]), 'fun': -0.3510110000000001}\n"
     ]
    }
   ],
   "source": [
    "def smallish_ansatz_HXYZ(params):\n",
    "    return Program(RZ(params[0], 0),\n",
    "                   RZ(params[1], 1), \n",
    "                   RZ(params[2], 2), \n",
    "                   RZ(params[3], 3),\n",
    ")\n",
    "\n",
    "vqe_inst = VQE(minimizer=minimize,\n",
    "               minimizer_kwargs={'method': 'CG'})\n",
    "initial_angles_HXYZ = [1.0, 1.0, 1.0, 1.0]\n",
    "result = vqe_inst.vqe_run(smallish_ansatz_HXYZ, hamiltonian, initial_angles_HXYZ, None, qvm=qvm)\n",
    "print(result)"
   ]
  },
  {
   "cell_type": "markdown",
   "metadata": {},
   "source": [
    "Groundstate very closely represents some rotation about the x axis, involves very little rotation about the z axis. Let's try this for the T gate."
   ]
  },
  {
   "cell_type": "code",
   "execution_count": 9,
   "metadata": {},
   "outputs": [
    {
     "name": "stdout",
     "output_type": "stream",
     "text": [
      "WARNING: Fast method for expectation will be used. Noise\n",
      "                     models will be ineffective\n",
      "{'x': array([ 1.,  1.,  1.,  1.]), 'fun': -0.3510110000000001}\n"
     ]
    }
   ],
   "source": [
    "def smallish_ansatz_HXYZ(params):\n",
    "    return Program(T(0),\n",
    "                   T(1), \n",
    "                   T(2), \n",
    "                   T(3),\n",
    ")\n",
    "\n",
    "vqe_inst = VQE(minimizer=minimize,\n",
    "               minimizer_kwargs={'method': 'CG'})\n",
    "initial_angles_HXYZ = [1.0, 1.0, 1.0, 1.0]\n",
    "result = vqe_inst.vqe_run(smallish_ansatz_HXYZ, hamiltonian, initial_angles_HXYZ, None, qvm=qvm)\n",
    "print(result)"
   ]
  },
  {
   "cell_type": "markdown",
   "metadata": {},
   "source": [
    "We see that we get the same (not great) result for T gates, since T gates are also just rotations about the Z axis, like RZ is."
   ]
  },
  {
   "cell_type": "code",
   "execution_count": 10,
   "metadata": {},
   "outputs": [
    {
     "name": "stdout",
     "output_type": "stream",
     "text": [
      "WARNING: Fast method for expectation will be used. Noise\n",
      "                     models will be ineffective\n",
      "{'x': array([  3.14158409e+00,   3.14159456e+00,  -1.43381839e-05,\n",
      "         1.00000023e+00]), 'fun': -0.8350149999931431}\n"
     ]
    }
   ],
   "source": [
    "def smallish_ansatz_HXYZ(params):\n",
    "    return Program(RX(params[0], 0),\n",
    "                   RX(params[1], 1), \n",
    "                   RX(params[2], 2), \n",
    "                   RZ(params[3], 3),\n",
    ")\n",
    "\n",
    "vqe_inst = VQE(minimizer=minimize,\n",
    "               minimizer_kwargs={'method': 'CG'})\n",
    "initial_angles_HXYZ = [1.0, 1.0, 1.0, 1.0]\n",
    "result = vqe_inst.vqe_run(smallish_ansatz_HXYZ, hamiltonian, initial_angles_HXYZ, None, qvm=qvm)\n",
    "print(result)"
   ]
  },
  {
   "cell_type": "code",
   "execution_count": 11,
   "metadata": {},
   "outputs": [
    {
     "name": "stdout",
     "output_type": "stream",
     "text": [
      "WARNING: Fast method for expectation will be used. Noise\n",
      "                     models will be ineffective\n",
      "{'x': array([  3.14159611e+00,   3.14159260e+00,   9.99999369e-01,\n",
      "        -3.82895099e-07]), 'fun': -0.8350149999997079}\n"
     ]
    }
   ],
   "source": [
    "def smallish_ansatz_HXYZ(params):\n",
    "    return Program(RX(params[0], 0),\n",
    "                   RX(params[1], 1), \n",
    "                   RZ(params[2], 2), \n",
    "                   RX(params[3], 3),\n",
    ")\n",
    "\n",
    "vqe_inst = VQE(minimizer=minimize,\n",
    "               minimizer_kwargs={'method': 'CG'})\n",
    "initial_angles_HXYZ = [1.0, 1.0, 1.0, 1.0]\n",
    "result = vqe_inst.vqe_run(smallish_ansatz_HXYZ, hamiltonian, initial_angles_HXYZ, None, qvm=qvm)\n",
    "print(result)"
   ]
  },
  {
   "cell_type": "code",
   "execution_count": 12,
   "metadata": {},
   "outputs": [
    {
     "name": "stdout",
     "output_type": "stream",
     "text": [
      "WARNING: Fast method for expectation will be used. Noise\n",
      "                     models will be ineffective\n",
      "{'x': array([  2.04413340e-06,   1.00000024e+00,   1.18568247e-06,\n",
      "        -2.78572915e-06]), 'fun': -0.35101099999788166}\n"
     ]
    }
   ],
   "source": [
    "def smallish_ansatz_HXYZ(params):\n",
    "    return Program(RX(params[0], 0),\n",
    "                   RZ(params[1], 1), \n",
    "                   RX(params[2], 2), \n",
    "                   RX(params[3], 3),\n",
    ")\n",
    "\n",
    "vqe_inst = VQE(minimizer=minimize,\n",
    "               minimizer_kwargs={'method': 'CG'})\n",
    "initial_angles_HXYZ = [1.0, 1.0, 1.0, 1.0]\n",
    "result = vqe_inst.vqe_run(smallish_ansatz_HXYZ, hamiltonian, initial_angles_HXYZ, None, qvm=qvm)\n",
    "print(result)"
   ]
  },
  {
   "cell_type": "code",
   "execution_count": 13,
   "metadata": {},
   "outputs": [
    {
     "name": "stdout",
     "output_type": "stream",
     "text": [
      "WARNING: Fast method for expectation will be used. Noise\n",
      "                     models will be ineffective\n",
      "{'x': array([  9.99999988e-01,   3.14159613e+00,  -3.00263229e-06,\n",
      "         1.48388105e-05]), 'fun': -0.7479109999547446}\n"
     ]
    }
   ],
   "source": [
    "def smallish_ansatz_HXYZ(params):\n",
    "    return Program(RZ(params[0], 0),\n",
    "                   RX(params[1], 1), \n",
    "                   RX(params[2], 2), \n",
    "                   RX(params[3], 3),\n",
    ")\n",
    "\n",
    "vqe_inst = VQE(minimizer=minimize,\n",
    "               minimizer_kwargs={'method': 'CG'})\n",
    "initial_angles_HXYZ = [1.0, 1.0, 1.0, 1.0]\n",
    "result = vqe_inst.vqe_run(smallish_ansatz_HXYZ, hamiltonian, initial_angles_HXYZ, None, qvm=qvm)\n",
    "print(result)"
   ]
  },
  {
   "cell_type": "markdown",
   "metadata": {},
   "source": [
    "We see that the X rotation for the second and first qubit (mostly the second qubit) matter much much more than the X rotation about the 3rd and 4th qubit. In fact, the scenario with an X rotation for the first three qubits, and a Z rotation for the last qubit yields the best possible result."
   ]
  },
  {
   "cell_type": "code",
   "execution_count": 14,
   "metadata": {},
   "outputs": [
    {
     "name": "stdout",
     "output_type": "stream",
     "text": [
      "WARNING: Fast method for expectation will be used. Noise\n",
      "                     models will be ineffective\n",
      "{'x': array([  3.14158983e+00,   3.14159007e+00,  -4.64747236e-06]), 'fun': -0.8350149999979091}\n"
     ]
    }
   ],
   "source": [
    "def smallish_ansatz_HXYZ(params):\n",
    "    return Program(RX(params[0], 0),\n",
    "                   RX(params[1], 1), \n",
    "                   RX(params[2], 2),\n",
    ")\n",
    "\n",
    "vqe_inst = VQE(minimizer=minimize,\n",
    "               minimizer_kwargs={'method': 'CG'})\n",
    "initial_angles_HXYZ = [1.0, 1.0, 1.0]\n",
    "result = vqe_inst.vqe_run(smallish_ansatz_HXYZ, hamiltonian, initial_angles_HXYZ, None, qvm=qvm)\n",
    "print(result)"
   ]
  },
  {
   "cell_type": "code",
   "execution_count": 15,
   "metadata": {},
   "outputs": [
    {
     "name": "stdout",
     "output_type": "stream",
     "text": [
      "WARNING: Fast method for expectation will be used. Noise\n",
      "                     models will be ineffective\n",
      "{'x': array([-3.1415617 ,  3.14159059]), 'fun': -0.8350149999782054}\n"
     ]
    }
   ],
   "source": [
    "def smallish_ansatz_HXYZ(params):\n",
    "    return Program(RX(params[0], 0),\n",
    "                   RX(params[1], 1),\n",
    ")\n",
    "\n",
    "vqe_inst = VQE(minimizer=minimize,\n",
    "               minimizer_kwargs={'method': 'CG'})\n",
    "initial_angles_HXYZ = [1.0, 1.0]\n",
    "result = vqe_inst.vqe_run(smallish_ansatz_HXYZ, hamiltonian, initial_angles_HXYZ, None, qvm=qvm)\n",
    "print(result)"
   ]
  },
  {
   "cell_type": "code",
   "execution_count": 16,
   "metadata": {},
   "outputs": [
    {
     "name": "stdout",
     "output_type": "stream",
     "text": [
      "WARNING: Fast method for expectation will be used. Noise\n",
      "                     models will be ineffective\n",
      "{'x': array([ -1.12886208e-05,  -1.13136441e-05,   1.57079366e+00,\n",
      "         1.57079376e+00,   9.54649578e-07,   9.44639690e-07,\n",
      "        -4.36669240e-06,  -4.37892158e-06]), 'fun': -0.5494609999812049}\n"
     ]
    }
   ],
   "source": [
    "def smallish_ansatz_HXYZ(params):\n",
    "    return Program(RX(params[0],0), RY(params[1], 0),\n",
    "                   RX(params[2], 1), RY(params[3], 1), \n",
    "                   RX(params[4], 2), RY(params[5], 2),\n",
    "                   RX(params[6], 3), RY(params[7], 3)\n",
    ")\n",
    "\n",
    "vqe_inst = VQE(minimizer=minimize,\n",
    "               minimizer_kwargs={'method': 'CG'})\n",
    "initial_angles_HXYZ = [1.0, 1.0, 1.0, 1.0, 1.0, 1.0, 1.0, 1.0]\n",
    "result = vqe_inst.vqe_run(smallish_ansatz_HXYZ, hamiltonian, initial_angles_HXYZ, None, qvm=qvm)\n",
    "print(result)"
   ]
  },
  {
   "cell_type": "code",
   "execution_count": null,
   "metadata": {},
   "outputs": [],
   "source": []
  }
 ],
 "metadata": {
  "kernelspec": {
   "display_name": "Python 3",
   "language": "python",
   "name": "python3"
  },
  "language_info": {
   "codemirror_mode": {
    "name": "ipython",
    "version": 3
   },
   "file_extension": ".py",
   "mimetype": "text/x-python",
   "name": "python",
   "nbconvert_exporter": "python",
   "pygments_lexer": "ipython3",
   "version": "3.6.4"
  }
 },
 "nbformat": 4,
 "nbformat_minor": 2
}
